{
 "cells": [
  {
   "cell_type": "markdown",
   "metadata": {},
   "source": [
    "### Selenium Setup\n",
    "The selenium setup is a bit more complicated than the other two. We need to install some dependencies.\n",
    "\n",
    "-->First install selenium latest version. (pip install selenium)\n",
    "\n",
    "-->Second download requests module. (pip install requests)\n",
    " \n",
    "-->Lastly download webdriver according to your browser type and model as for my case i am using chormedriver"
   ]
  },
  {
   "cell_type": "markdown",
   "metadata": {},
   "source": [
    "### Importing the required Modules"
   ]
  },
  {
   "cell_type": "code",
   "execution_count": 15,
   "metadata": {},
   "outputs": [],
   "source": [
    "from selenium import webdriver\n",
    "import requests\n",
    "from selenium.webdriver.common.keys import Keys\n",
    "from selenium.webdriver.chrome.service import Service\n",
    "from selenium.webdriver.common.by import By\n",
    "import time"
   ]
  },
  {
   "cell_type": "markdown",
   "metadata": {},
   "source": [
    "### Opening the Web Browser "
   ]
  },
  {
   "cell_type": "markdown",
   "metadata": {},
   "source": [
    "1.Openig a particular website let us say google.com\n",
    "url : https://www.google.com/\n",
    "\n",
    "\n",
    "2.Write some text into the search box (we can any attributes like class, xpath,id,text)\n",
    "\n",
    "3.Click on search button (We can use send_keys.ENTER)\n",
    "\n",
    "4.Wait for few sec then close the browser"
   ]
  },
  {
   "cell_type": "code",
   "execution_count": 18,
   "metadata": {},
   "outputs": [],
   "source": [
    "s = Service(\"/usr/local/bin/chromedriver\")\n",
    "driver = webdriver.Chrome(service=s)\n",
    "driver.get(\"https://www.google.com/\")\n",
    "\n",
    "input = driver.find_element(By.ID,\"APjFqb\")\n",
    "input.send_keys(\"Selenium\")\n",
    "\n",
    "driver.find_element(By.NAME,\"btnK\").click()\n",
    "time.sleep(5)\n",
    "driver.close()\n"
   ]
  },
  {
   "cell_type": "code",
   "execution_count": null,
   "metadata": {},
   "outputs": [],
   "source": []
  },
  {
   "cell_type": "code",
   "execution_count": null,
   "metadata": {},
   "outputs": [],
   "source": []
  }
 ],
 "metadata": {
  "kernelspec": {
   "display_name": "base",
   "language": "python",
   "name": "python3"
  },
  "language_info": {
   "codemirror_mode": {
    "name": "ipython",
    "version": 3
   },
   "file_extension": ".py",
   "mimetype": "text/x-python",
   "name": "python",
   "nbconvert_exporter": "python",
   "pygments_lexer": "ipython3",
   "version": "3.11.4"
  },
  "orig_nbformat": 4
 },
 "nbformat": 4,
 "nbformat_minor": 2
}
