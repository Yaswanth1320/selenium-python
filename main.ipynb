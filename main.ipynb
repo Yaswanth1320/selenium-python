{
 "cells": [
  {
   "cell_type": "markdown",
   "metadata": {},
   "source": [
    "### Selenium Setup\n",
    "The selenium setup is a bit more complicated than the other two. We need to install some dependencies.\n",
    "\n",
    "-->First install selenium latest version. (pip install selenium)\n",
    "\n",
    "-->Second download requests module. (pip install requests)\n",
    " \n",
    "-->Lastly download webdriver according to your browser type and model as for my case i am using chormedriver"
   ]
  },
  {
   "cell_type": "markdown",
   "metadata": {},
   "source": [
    "### Importing the required Modules"
   ]
  },
  {
   "cell_type": "code",
   "execution_count": 23,
   "metadata": {},
   "outputs": [],
   "source": [
    "from selenium import webdriver\n",
    "import requests\n",
    "from selenium.webdriver.common.keys import Keys\n",
    "from selenium.webdriver.chrome.service import Service\n",
    "from selenium.webdriver.common.by import By\n",
    "import time"
   ]
  },
  {
   "cell_type": "markdown",
   "metadata": {},
   "source": [
    "### Opening the Web Browser "
   ]
  },
  {
   "cell_type": "markdown",
   "metadata": {},
   "source": [
    "1.Openig a particular website let us say google.com\n",
    "url : https://www.google.com/\n",
    "\n",
    "\n",
    "2.Write some text into the search box (we can any attributes like class, xpath,id,text)\n",
    "\n",
    "3.Click on search button (We can use send_keys.ENTER)\n",
    "\n",
    "4.Wait for few sec then close the browser"
   ]
  },
  {
   "cell_type": "code",
   "execution_count": 18,
   "metadata": {},
   "outputs": [],
   "source": [
    "s = Service(\"/usr/local/bin/chromedriver\")\n",
    "driver = webdriver.Chrome(service=s)\n",
    "driver.get(\"https://www.google.com/\")\n",
    "\n",
    "input = driver.find_element(By.ID,\"APjFqb\")\n",
    "input.send_keys(\"Selenium\")\n",
    "\n",
    "driver.find_element(By.NAME,\"btnK\").click()\n",
    "time.sleep(5)\n",
    "driver.close()\n"
   ]
  },
  {
   "cell_type": "markdown",
   "metadata": {},
   "source": [
    "To Maximize window use maximize_window() command"
   ]
  },
  {
   "cell_type": "code",
   "execution_count": 20,
   "metadata": {},
   "outputs": [],
   "source": [
    "s = Service(\"/usr/local/bin/chromedriver\")\n",
    "driver = webdriver.Chrome(service=s)\n",
    "\n",
    "driver.get(\"https://www.google.com/\")\n",
    "driver.maximize_window()\n"
   ]
  },
  {
   "cell_type": "markdown",
   "metadata": {},
   "source": [
    "### Locators\n",
    "\n",
    "1.)Using Locators (id,name,class,Linktext,PartialLinktext,TagName)\n",
    "\n",
    "2.)Using customized Locators (Css selectors, Absolute XPath, Relative XPath)"
   ]
  },
  {
   "cell_type": "code",
   "execution_count": 22,
   "metadata": {},
   "outputs": [],
   "source": [
    "s = Service(\"/usr/local/bin/chromedriver\")\n",
    "driver = webdriver.Chrome(service=s)\n",
    "\n",
    "driver.get(\"https://www.selenium.dev/\")\n",
    "driver.find_element(By.XPATH,\"/html/body/header/nav/div/div/div/button/span[1]/span\").click() # Customized Locator\n",
    "\n",
    "driver.find_element(By.ID, \"docsearch-input\").send_keys(\"Documatation\") # Locators\n"
   ]
  },
  {
   "cell_type": "markdown",
   "metadata": {},
   "source": [
    "### Xpath Axes"
   ]
  },
  {
   "cell_type": "code",
   "execution_count": 34,
   "metadata": {},
   "outputs": [
    {
     "name": "stdout",
     "output_type": "stream",
     "text": [
      "Self Node : Ind Bank Housing\n",
      "Parent Node :  Gujarat Hy-Spin\n",
      "No of child Nodes : 15\n"
     ]
    }
   ],
   "source": [
    "s = Service(\"/usr/local/bin/chromedriver\")\n",
    "driver = webdriver.Chrome(service=s)\n",
    "driver.get(\"https://money.rediff.com/gainers\")\n",
    "\n",
    "data = driver.find_element(By.XPATH,\"/html/body/div[2]/div[5]/table/tbody/tr[4]/td[1]\").text #self tag\n",
    "print(\"Self Node :\",data)\n",
    "\n",
    "parent_data = driver.find_element(By.XPATH,\"//a[contains(text(),'Gujarat Hy-Spin')]/parent::td\").text #Accessing the parent tag from self tag\n",
    "print(\"Parent Node : \",parent_data) # Print same since parent have only one child\n",
    "\n",
    "childs = driver.find_element(By.XPATH,\"//a[contains(text(),'Gujarat Hy-Spin')]/ancestor::tr/child::td\").text #Here first we jump from self to ancestor node and from ancestor we find all the child nodes of that tag\n",
    "print(\"No of child Nodes :\",len(childs))\n",
    "\n",
    "driver.close()"
   ]
  },
  {
   "cell_type": "markdown",
   "metadata": {},
   "source": [
    "### Commands\n",
    "\n",
    "Application commands"
   ]
  },
  {
   "cell_type": "code",
   "execution_count": 37,
   "metadata": {},
   "outputs": [
    {
     "name": "stdout",
     "output_type": "stream",
     "text": [
      "Selenium\n",
      "https://www.selenium.dev/\n"
     ]
    }
   ],
   "source": [
    "s = Service(\"/usr/local/bin/chromedriver\")\n",
    "driver = webdriver.Chrome(service=s)\n",
    "driver.get(\"https://www.selenium.dev/\")\n",
    "\n",
    "print(driver.title)   #return the title of the webpage\n",
    "print(driver.current_url) #return the current_url of the webpage\n",
    "driver.page_source  # return the source code of the the webpage\n",
    "driver.close()"
   ]
  },
  {
   "cell_type": "markdown",
   "metadata": {},
   "source": [
    "Conditional commands"
   ]
  },
  {
   "cell_type": "code",
   "execution_count": 44,
   "metadata": {},
   "outputs": [
    {
     "name": "stdout",
     "output_type": "stream",
     "text": [
      "Display status : True\n",
      "Enabled status : True\n",
      "Intial value : False\n",
      "After clicking : True\n"
     ]
    }
   ],
   "source": [
    "s = Service(\"/usr/local/bin/chromedriver\")\n",
    "driver = webdriver.Chrome(service=s)\n",
    "driver.get(\"https://demo.nopcommerce.com/register\")\n",
    "\n",
    "search = driver.find_element(By.XPATH, \"//input[@id='small-searchterms']\")\n",
    "print(\"Display status :\",search.is_displayed())\n",
    "print(\"Enabled status :\",search.is_enabled())\n",
    "\n",
    "# is_selected() is used in case of radiobuttons,cheakboxes\n",
    "\n",
    "intial = driver.find_element(By.XPATH, \"//input[@id='gender-male']\")\n",
    "print(\"Intial value :\",intial.is_selected())\n",
    "intial.click()\n",
    "\n",
    "after = driver.find_element(By.XPATH, \"//input[@id='gender-male']\")\n",
    "print(\"After clicking :\",after.is_selected())\n",
    "\n",
    "driver.close()"
   ]
  },
  {
   "cell_type": "markdown",
   "metadata": {},
   "source": [
    "Browser Commands"
   ]
  },
  {
   "cell_type": "code",
   "execution_count": 49,
   "metadata": {},
   "outputs": [],
   "source": [
    "s = Service(\"/usr/local/bin/chromedriver\")\n",
    "driver = webdriver.Chrome(service=s)\n",
    "driver.get(\"https://demo.nopcommerce.com/register\")\n",
    "driver.maximize_window()\n",
    "driver.find_element(By.XPATH,\"//a[contains(text(),'nopCommerce')]\").click()\n",
    "time.sleep(4)\n",
    "# driver.close() #It will only close the first webpage \n",
    "driver.quit() #It will close complete browser"
   ]
  },
  {
   "cell_type": "markdown",
   "metadata": {},
   "source": [
    "Navigation Commands"
   ]
  },
  {
   "cell_type": "code",
   "execution_count": 50,
   "metadata": {},
   "outputs": [],
   "source": [
    "s = Service(\"/usr/local/bin/chromedriver\")\n",
    "driver = webdriver.Chrome(service=s)\n",
    "\n",
    "driver.get(\"https://www.flipkart.com/\") # first driver fetch this page\n",
    "driver.get(\"https://www.ajio.com/?gclid=EAIaIQobChMIrN65tsasgQMVuaRmAh24DA7zEAAYASAAEgISFvD_BwE\") #After that it goesto this page\n",
    "\n",
    "driver.back() #back() command locate back to the page\n",
    "driver.close()"
   ]
  },
  {
   "cell_type": "code",
   "execution_count": null,
   "metadata": {},
   "outputs": [],
   "source": []
  },
  {
   "cell_type": "code",
   "execution_count": null,
   "metadata": {},
   "outputs": [],
   "source": []
  },
  {
   "cell_type": "code",
   "execution_count": null,
   "metadata": {},
   "outputs": [],
   "source": []
  },
  {
   "cell_type": "code",
   "execution_count": null,
   "metadata": {},
   "outputs": [],
   "source": []
  },
  {
   "cell_type": "code",
   "execution_count": null,
   "metadata": {},
   "outputs": [],
   "source": []
  },
  {
   "cell_type": "code",
   "execution_count": null,
   "metadata": {},
   "outputs": [],
   "source": []
  },
  {
   "cell_type": "code",
   "execution_count": null,
   "metadata": {},
   "outputs": [],
   "source": []
  },
  {
   "cell_type": "code",
   "execution_count": null,
   "metadata": {},
   "outputs": [],
   "source": []
  },
  {
   "cell_type": "code",
   "execution_count": null,
   "metadata": {},
   "outputs": [],
   "source": []
  }
 ],
 "metadata": {
  "kernelspec": {
   "display_name": "base",
   "language": "python",
   "name": "python3"
  },
  "language_info": {
   "codemirror_mode": {
    "name": "ipython",
    "version": 3
   },
   "file_extension": ".py",
   "mimetype": "text/x-python",
   "name": "python",
   "nbconvert_exporter": "python",
   "pygments_lexer": "ipython3",
   "version": "3.11.4"
  },
  "orig_nbformat": 4
 },
 "nbformat": 4,
 "nbformat_minor": 2
}
