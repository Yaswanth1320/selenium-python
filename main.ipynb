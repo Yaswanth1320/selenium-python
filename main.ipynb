{
 "cells": [
  {
   "cell_type": "markdown",
   "metadata": {},
   "source": [
    "### Selenium Setup\n",
    "The selenium setup is a bit more complicated than the other two. We need to install some dependencies.\n",
    "\n",
    "-->First install selenium latest version. (pip install selenium)\n",
    "\n",
    "-->Second download requests module. (pip install requests)\n",
    " \n",
    "-->Lastly download webdriver according to your browser type and model as for my case i am using chormedriver"
   ]
  },
  {
   "cell_type": "markdown",
   "metadata": {},
   "source": [
    "### Importing the required Modules"
   ]
  },
  {
   "cell_type": "code",
   "execution_count": 63,
   "metadata": {},
   "outputs": [],
   "source": [
    "from selenium import webdriver\n",
    "import requests\n",
    "from selenium.webdriver.common.keys import Keys\n",
    "from selenium.webdriver.chrome.service import Service\n",
    "from selenium.webdriver.common.by import By\n",
    "import time\n",
    "from selenium.webdriver.support.ui import WebDriverWait\n",
    "from selenium.webdriver.support import expected_conditions as ec"
   ]
  },
  {
   "cell_type": "markdown",
   "metadata": {},
   "source": [
    "### Opening the Web Browser "
   ]
  },
  {
   "cell_type": "markdown",
   "metadata": {},
   "source": [
    "1.Openig a particular website let us say google.com\n",
    "url : https://www.google.com/\n",
    "\n",
    "\n",
    "2.Write some text into the search box (we can any attributes like class, xpath,id,text)\n",
    "\n",
    "3.Click on search button (We can use send_keys.ENTER)\n",
    "\n",
    "4.Wait for few sec then close the browser"
   ]
  },
  {
   "cell_type": "code",
   "execution_count": 18,
   "metadata": {},
   "outputs": [],
   "source": [
    "s = Service(\"/usr/local/bin/chromedriver\")\n",
    "driver = webdriver.Chrome(service=s)\n",
    "driver.get(\"https://www.google.com/\")\n",
    "\n",
    "input = driver.find_element(By.ID,\"APjFqb\")\n",
    "input.send_keys(\"Selenium\")\n",
    "\n",
    "driver.find_element(By.NAME,\"btnK\").click()\n",
    "time.sleep(5)\n",
    "driver.close()\n"
   ]
  },
  {
   "cell_type": "markdown",
   "metadata": {},
   "source": [
    "To Maximize window use maximize_window() command"
   ]
  },
  {
   "cell_type": "code",
   "execution_count": 20,
   "metadata": {},
   "outputs": [],
   "source": [
    "s = Service(\"/usr/local/bin/chromedriver\")\n",
    "driver = webdriver.Chrome(service=s)\n",
    "\n",
    "driver.get(\"https://www.google.com/\")\n",
    "driver.maximize_window()\n"
   ]
  },
  {
   "cell_type": "markdown",
   "metadata": {},
   "source": [
    "### Locators\n",
    "\n",
    "1.)Using Locators (id,name,class,Linktext,PartialLinktext,TagName)\n",
    "\n",
    "2.)Using customized Locators (Css selectors, Absolute XPath, Relative XPath)"
   ]
  },
  {
   "cell_type": "code",
   "execution_count": 22,
   "metadata": {},
   "outputs": [],
   "source": [
    "s = Service(\"/usr/local/bin/chromedriver\")\n",
    "driver = webdriver.Chrome(service=s)\n",
    "\n",
    "driver.get(\"https://www.selenium.dev/\")\n",
    "driver.find_element(By.XPATH,\"/html/body/header/nav/div/div/div/button/span[1]/span\").click() # Customized Locator\n",
    "\n",
    "driver.find_element(By.ID, \"docsearch-input\").send_keys(\"Documatation\") # Locators\n"
   ]
  },
  {
   "cell_type": "markdown",
   "metadata": {},
   "source": [
    "### Xpath Axes"
   ]
  },
  {
   "cell_type": "code",
   "execution_count": 34,
   "metadata": {},
   "outputs": [
    {
     "name": "stdout",
     "output_type": "stream",
     "text": [
      "Self Node : Ind Bank Housing\n",
      "Parent Node :  Gujarat Hy-Spin\n",
      "No of child Nodes : 15\n"
     ]
    }
   ],
   "source": [
    "s = Service(\"/usr/local/bin/chromedriver\")\n",
    "driver = webdriver.Chrome(service=s)\n",
    "driver.get(\"https://money.rediff.com/gainers\")\n",
    "\n",
    "data = driver.find_element(By.XPATH,\"/html/body/div[2]/div[5]/table/tbody/tr[4]/td[1]\").text #self tag\n",
    "print(\"Self Node :\",data)\n",
    "\n",
    "parent_data = driver.find_element(By.XPATH,\"//a[contains(text(),'Gujarat Hy-Spin')]/parent::td\").text #Accessing the parent tag from self tag\n",
    "print(\"Parent Node : \",parent_data) # Print same since parent have only one child\n",
    "\n",
    "childs = driver.find_element(By.XPATH,\"//a[contains(text(),'Gujarat Hy-Spin')]/ancestor::tr/child::td\").text #Here first we jump from self to ancestor node and from ancestor we find all the child nodes of that tag\n",
    "print(\"No of child Nodes :\",len(childs))\n",
    "\n",
    "driver.close()"
   ]
  },
  {
   "cell_type": "markdown",
   "metadata": {},
   "source": [
    "### Commands\n",
    "\n",
    "Application commands"
   ]
  },
  {
   "cell_type": "code",
   "execution_count": 37,
   "metadata": {},
   "outputs": [
    {
     "name": "stdout",
     "output_type": "stream",
     "text": [
      "Selenium\n",
      "https://www.selenium.dev/\n"
     ]
    }
   ],
   "source": [
    "s = Service(\"/usr/local/bin/chromedriver\")\n",
    "driver = webdriver.Chrome(service=s)\n",
    "driver.get(\"https://www.selenium.dev/\")\n",
    "\n",
    "print(driver.title)   #return the title of the webpage\n",
    "print(driver.current_url) #return the current_url of the webpage\n",
    "driver.page_source  # return the source code of the the webpage\n",
    "driver.close()"
   ]
  },
  {
   "cell_type": "markdown",
   "metadata": {},
   "source": [
    "Conditional commands"
   ]
  },
  {
   "cell_type": "code",
   "execution_count": 44,
   "metadata": {},
   "outputs": [
    {
     "name": "stdout",
     "output_type": "stream",
     "text": [
      "Display status : True\n",
      "Enabled status : True\n",
      "Intial value : False\n",
      "After clicking : True\n"
     ]
    }
   ],
   "source": [
    "s = Service(\"/usr/local/bin/chromedriver\")\n",
    "driver = webdriver.Chrome(service=s)\n",
    "driver.get(\"https://demo.nopcommerce.com/register\")\n",
    "\n",
    "search = driver.find_element(By.XPATH, \"//input[@id='small-searchterms']\")\n",
    "print(\"Display status :\",search.is_displayed())\n",
    "print(\"Enabled status :\",search.is_enabled())\n",
    "\n",
    "# is_selected() is used in case of radiobuttons,cheakboxes\n",
    "\n",
    "intial = driver.find_element(By.XPATH, \"//input[@id='gender-male']\")\n",
    "print(\"Intial value :\",intial.is_selected())\n",
    "intial.click()\n",
    "\n",
    "after = driver.find_element(By.XPATH, \"//input[@id='gender-male']\")\n",
    "print(\"After clicking :\",after.is_selected())\n",
    "\n",
    "driver.close()"
   ]
  },
  {
   "cell_type": "markdown",
   "metadata": {},
   "source": [
    "Browser Commands"
   ]
  },
  {
   "cell_type": "code",
   "execution_count": 49,
   "metadata": {},
   "outputs": [],
   "source": [
    "s = Service(\"/usr/local/bin/chromedriver\")\n",
    "driver = webdriver.Chrome(service=s)\n",
    "driver.get(\"https://demo.nopcommerce.com/register\")\n",
    "driver.maximize_window()\n",
    "driver.find_element(By.XPATH,\"//a[contains(text(),'nopCommerce')]\").click()\n",
    "time.sleep(4)\n",
    "# driver.close() #It will only close the first webpage \n",
    "driver.quit() #It will close complete browser"
   ]
  },
  {
   "cell_type": "markdown",
   "metadata": {},
   "source": [
    "Navigation Commands"
   ]
  },
  {
   "cell_type": "code",
   "execution_count": 52,
   "metadata": {},
   "outputs": [
    {
     "name": "stdout",
     "output_type": "stream",
     "text": [
      "Current Page : Online Shopping for Women, Men, Kids Fashion & Lifestyle - Myntra\n",
      "Current Page : Online Shopping for Women, Men, Kids – Clothing, Footwear | AJIO\n",
      "Current Page : Online Shopping for Women, Men, Kids Fashion & Lifestyle - Myntra\n",
      "Current Page : Online Shopping for Women, Men, Kids – Clothing, Footwear | AJIO\n"
     ]
    }
   ],
   "source": [
    "s = Service(\"/usr/local/bin/chromedriver\")\n",
    "driver = webdriver.Chrome(service=s)\n",
    "\n",
    "driver.get(\"https://www.myntra.com/\") # first driver fetch this page\n",
    "print(\"Current Page :\",driver.title)\n",
    "driver.get(\"https://www.ajio.com/?gclid=EAIaIQobChMIrN65tsasgQMVuaRmAh24DA7zEAAYASAAEgISFvD_BwE\")  #After that it goes to this page                     \n",
    "print(\"Current Page :\",driver.title)\n",
    "driver.back()            #back() command locate back to the page\n",
    "print(\"Current Page :\",driver.title)\n",
    "driver.forward()        #forward() command will move you one step ahead in history\n",
    "print(\"Current Page :\",driver.title)\n",
    "\n",
    "driver.refresh()        #refresh() command will reload a page \n",
    "driver.close()"
   ]
  },
  {
   "cell_type": "markdown",
   "metadata": {},
   "source": [
    "text vs get_attribute()"
   ]
  },
  {
   "cell_type": "code",
   "execution_count": 57,
   "metadata": {},
   "outputs": [
    {
     "name": "stdout",
     "output_type": "stream",
     "text": [
      "text : \n",
      "get_attribute : 2048\n"
     ]
    }
   ],
   "source": [
    "s = Service(\"/usr/local/bin/chromedriver\")\n",
    "driver = webdriver.Chrome(service=s)\n",
    "\n",
    "driver.get(\"https://www.google.com/\")\n",
    "driver.maximize_window()\n",
    "search = driver.find_element(By.XPATH, \"//textarea[@id='APjFqb']\")\n",
    "print(\"text :\",search.text) # Returns the inner text of the tag or element (Empty since intially serach space is empty) \n",
    "print(\"get_attribute :\",search.get_attribute(\"maxlength\")) #return the values of the specific attrinute of element\n",
    "\n",
    "driver.close()\n"
   ]
  },
  {
   "cell_type": "markdown",
   "metadata": {},
   "source": [
    "Wait commands"
   ]
  },
  {
   "cell_type": "code",
   "execution_count": 61,
   "metadata": {},
   "outputs": [],
   "source": [
    "s = Service(\"/usr/local/bin/chromedriver\")\n",
    "driver = webdriver.Chrome(service=s)\n",
    "driver.get(\"https://www.google.com/\")\n",
    "search = driver.find_element(By.XPATH, \"//textarea[@id='APjFqb']\").send_keys(\"selunium\")\n",
    "driver.find_element(By.XPATH, \"/html/body/div[1]/div[3]/form/div[1]/div[1]/div[4]/center/input[1]\").click()\n",
    "\n",
    "time.sleep(5) #sleep() method stop the exceution for some time(sec) and start exceuting again\n",
    "driver.close()"
   ]
  },
  {
   "cell_type": "code",
   "execution_count": 62,
   "metadata": {},
   "outputs": [],
   "source": [
    "s = Service(\"/usr/local/bin/chromedriver\")\n",
    "driver = webdriver.Chrome(service=s)\n",
    "driver.get(\"https://www.google.com/\")\n",
    "driver.implicitly_wait(5) #This method provide waiting time at any part of code after it is written\n",
    "\n",
    "search = driver.find_element(By.XPATH, \"//textarea[@id='APjFqb']\").send_keys(\"selunium\")\n",
    "driver.find_element(By.XPATH, \"/html/body/div[1]/div[3]/form/div[1]/div[1]/div[4]/center/input[1]\").click()\n",
    "\n",
    "driver.close()"
   ]
  },
  {
   "cell_type": "code",
   "execution_count": 64,
   "metadata": {},
   "outputs": [],
   "source": [
    "s = Service(\"/usr/local/bin/chromedriver\")\n",
    "driver = webdriver.Chrome(service=s)\n",
    "driver.get(\"https://www.google.com/\")\n",
    "mywait = WebDriverWait(driver, 10) # Explicitly declare time\n",
    "\n",
    "search = driver.find_element(By.XPATH, \"//textarea[@id='APjFqb']\").send_keys(\"selunium\")\n",
    "driver.find_element(By.XPATH, \"/html/body/div[1]/div[3]/form/div[1]/div[1]/div[4]/center/input[1]\").click()\n",
    "# Until the condition element is present in webpage the program is put into sleep\n",
    "mywait.until(ec.presence_of_element_located((By.XPATH, '//*[@id=\"rso\"]/div[1]/div/div/div/div/div/div/div/div[1]/div/span/a/h3')))\n",
    "\n",
    "driver.close()"
   ]
  },
  {
   "cell_type": "code",
   "execution_count": null,
   "metadata": {},
   "outputs": [],
   "source": []
  },
  {
   "cell_type": "code",
   "execution_count": null,
   "metadata": {},
   "outputs": [],
   "source": []
  },
  {
   "cell_type": "code",
   "execution_count": null,
   "metadata": {},
   "outputs": [],
   "source": []
  },
  {
   "cell_type": "code",
   "execution_count": null,
   "metadata": {},
   "outputs": [],
   "source": []
  },
  {
   "cell_type": "code",
   "execution_count": null,
   "metadata": {},
   "outputs": [],
   "source": []
  }
 ],
 "metadata": {
  "kernelspec": {
   "display_name": "base",
   "language": "python",
   "name": "python3"
  },
  "language_info": {
   "codemirror_mode": {
    "name": "ipython",
    "version": 3
   },
   "file_extension": ".py",
   "mimetype": "text/x-python",
   "name": "python",
   "nbconvert_exporter": "python",
   "pygments_lexer": "ipython3",
   "version": "3.11.4"
  },
  "orig_nbformat": 4
 },
 "nbformat": 4,
 "nbformat_minor": 2
}
